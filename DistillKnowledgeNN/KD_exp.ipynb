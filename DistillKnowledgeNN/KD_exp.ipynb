{
 "cells": [
  {
   "cell_type": "code",
   "execution_count": 10,
   "metadata": {},
   "outputs": [],
   "source": [
    "import argparse\n",
    "import logging\n",
    "import os\n",
    "import time\n",
    "import math\n",
    "import random\n",
    "import numpy as np\n",
    "import torch\n",
    "import torch.nn as nn\n",
    "import torch.nn.functional as F\n",
    "import torch.optim as optim\n",
    "from torch.optim.lr_scheduler import StepLR\n",
    "from torch.autograd import Variable\n",
    "from tqdm import tqdm\n",
    "\n",
    "import utils\n",
    "import model.net as net\n",
    "import model.resnet as resnet\n",
    "import model.data_loader as data_loader\n",
    "from evaluate import evaluate, evaluate_kd"
   ]
  },
  {
   "cell_type": "code",
   "execution_count": 11,
   "metadata": {},
   "outputs": [
    {
     "name": "stderr",
     "output_type": "stream",
     "text": [
      "Loading the datasets...\n"
     ]
    },
    {
     "name": "stdout",
     "output_type": "stream",
     "text": [
      "Files already downloaded and verified\n",
      "Files already downloaded and verified\n",
      "Files already downloaded and verified\n",
      "Files already downloaded and verified\n"
     ]
    },
    {
     "name": "stderr",
     "output_type": "stream",
     "text": [
      "- done.\n"
     ]
    }
   ],
   "source": [
    "params = utils.Params('./experiments/cnn_distill/params.json')\n",
    "params.cuda = torch.cuda.is_available()\n",
    "random.seed(1)\n",
    "torch.manual_seed(1)\n",
    "if params.cuda: \n",
    "    torch.cuda.manual_seed(1)\n",
    "utils.set_logger(os.path.join('./experiments/cnn_distill', 'train.log'))\n",
    "logging.info(\"Loading the datasets...\")\n",
    "train_dl = data_loader.fetch_dataloader('train', params)\n",
    "dev_dl = data_loader.fetch_dataloader('dev', params)\n",
    "logging.info(\"- done.\")"
   ]
  },
  {
   "cell_type": "markdown",
   "metadata": {},
   "source": [
    "## ResNet-18 -> Conv-5 Distillation\n",
    "### dataset: CIFAR10"
   ]
  },
  {
   "cell_type": "code",
   "execution_count": 12,
   "metadata": {},
   "outputs": [
    {
     "name": "stderr",
     "output_type": "stream",
     "text": [
      "Experiment - model version: cnn_distill\n",
      "Starting training for 30 epoch(s)\n",
      "First, loading the teacher model and computing its outputs...\n"
     ]
    }
   ],
   "source": [
    "# Student model : Conv-5 network\n",
    "model = net.Net(params).cuda() if params.cuda else net.Net(params)\n",
    "optimizer = optim.Adam(model.parameters(), lr=params.learning_rate)\n",
    "metrics = net.metrics\n",
    "\n",
    "# Teacher model : ResNet-18 network (pretrained)\n",
    "teacher_model = resnet.ResNet18()\n",
    "teacher_checkpoint = './experiments/base_resnet18/best.pth.tar'\n",
    "teacher_model = teacher_model.cuda() if params.cuda else teacher_model\n",
    "utils.load_checkpoint(teacher_checkpoint, teacher_model)\n",
    "\n",
    "logging.info(\"Experiment - model version: {}\".format(params.model_version))\n",
    "logging.info(\"Starting training for {} epoch(s)\".format(params.num_epochs))\n",
    "logging.info(\"First, loading the teacher model and computing its outputs...\")"
   ]
  },
  {
   "cell_type": "markdown",
   "metadata": {},
   "source": [
    "### KD Loss: D_KL(p||q) where q is student model's output prob., p is teacher model's output prob.\n",
    "### min D_KL(p||q) is equivalent to min -plogq"
   ]
  },
  {
   "cell_type": "code",
   "execution_count": 13,
   "metadata": {},
   "outputs": [],
   "source": [
    "def loss_fn_kd(outputs, labels, teacher_outputs, params):\n",
    "    \"\"\"\n",
    "    Compute the knowledge-distillation (KD) loss given outputs, labels.\n",
    "    \"Hyperparameters\": temperature and alpha\n",
    "\n",
    "    NOTE: the KL Divergence for PyTorch comparing the softmaxs of teacher\n",
    "    and student expects the input tensor to be log probabilities! See Issue #2\n",
    "    \"\"\"\n",
    "    alpha = params.alpha\n",
    "    T = params.temperature\n",
    "    KD_loss = nn.KLDivLoss()(F.log_softmax(outputs/T, dim=1),\n",
    "                             F.softmax(teacher_outputs/T, dim=1)) * (alpha * T * T) + \\\n",
    "              F.cross_entropy(outputs, labels) * (1. - alpha)\n",
    "    #KD_loss = - F.softmax(teacher_outputs/T, dim=1) * torch.log(F.softmax(outputs/T, dim=1))\n",
    "\n",
    "    return KD_loss"
   ]
  },
  {
   "cell_type": "code",
   "execution_count": 41,
   "metadata": {},
   "outputs": [
    {
     "name": "stderr",
     "output_type": "stream",
     "text": [
      "Clipping input data to the valid range for imshow with RGB data ([0..1] for floats or [0..255] for integers).\n"
     ]
    },
    {
     "name": "stdout",
     "output_type": "stream",
     "text": [
      "tensor(4)\n",
      "tensor([-1.6575, -2.1293,  1.9831, -0.1577,  8.7040, -0.4225, -0.0694, -1.9424,\n",
      "        -3.3449, -0.9634], device='cuda:0')\n"
     ]
    },
    {
     "data": {
      "image/png": "[encoded data removed]",
      "text/plain": [
       "<Figure size 432x288 with 1 Axes>"
      ]
     },
     "metadata": {
      "needs_background": "light"
     },
     "output_type": "display_data"
    }
   ],
   "source": [
    "train_batch, labels_batch = next(iter(train_dl))\n",
    "img = train_batch[0].permute(1,2,0).numpy()\n",
    "lbl = labels_batch[0]\n",
    "from matplotlib.pyplot import imshow\n",
    "imshow(img)\n",
    "print(lbl)\n",
    "with torch.no_grad():\n",
    "    teacher_outputs = teacher_model(train_batch.cuda())\n",
    "print(teacher_outputs[0])"
   ]
  },
  {
   "cell_type": "code",
   "execution_count": 5,
   "metadata": {},
   "outputs": [
    {
     "name": "stderr",
     "output_type": "stream",
     "text": [
      "Epoch 1/30\n",
      "/home/sungnyun/anaconda3/lib/python3.8/site-packages/torch/nn/functional.py:2398: UserWarning: reduction: 'mean' divides the total loss by both the batch size and the support size.'batchmean' divides only by the batch size, and aligns with the KL div math definition.'mean' will be changed to behave the same as 'batchmean' in the next major release.\n",
      "  warnings.warn(\"reduction: 'mean' divides the total loss by both the batch size and the support size.\"\n",
      "- Eval metrics : accuracy: 0.644 ; loss: 0.000\n",
      "Epoch 2/30\n",
      "- Eval metrics : accuracy: 0.688 ; loss: 0.000\n",
      "Epoch 3/30\n",
      "- Eval metrics : accuracy: 0.731 ; loss: 0.000\n",
      "Epoch 4/30\n",
      "- Eval metrics : accuracy: 0.748 ; loss: 0.000\n",
      "Epoch 5/30\n",
      "- Eval metrics : accuracy: 0.765 ; loss: 0.000\n",
      "Epoch 6/30\n",
      "- Eval metrics : accuracy: 0.763 ; loss: 0.000\n",
      "Epoch 7/30\n",
      "- Eval metrics : accuracy: 0.763 ; loss: 0.000\n",
      "Epoch 8/30\n",
      "- Eval metrics : accuracy: 0.774 ; loss: 0.000\n",
      "Epoch 9/30\n",
      "- Eval metrics : accuracy: 0.782 ; loss: 0.000\n",
      "Epoch 10/30\n",
      "- Eval metrics : accuracy: 0.793 ; loss: 0.000\n",
      "Epoch 11/30\n",
      "- Eval metrics : accuracy: 0.799 ; loss: 0.000\n",
      "Epoch 12/30\n",
      "- Eval metrics : accuracy: 0.816 ; loss: 0.000\n",
      "Epoch 13/30\n",
      "- Eval metrics : accuracy: 0.816 ; loss: 0.000\n",
      "Epoch 14/30\n",
      "- Eval metrics : accuracy: 0.812 ; loss: 0.000\n",
      "Epoch 15/30\n",
      "- Eval metrics : accuracy: 0.814 ; loss: 0.000\n",
      "Epoch 16/30\n",
      "- Eval metrics : accuracy: 0.818 ; loss: 0.000\n",
      "Epoch 17/30\n",
      "- Eval metrics : accuracy: 0.822 ; loss: 0.000\n",
      "Epoch 18/30\n",
      "- Eval metrics : accuracy: 0.825 ; loss: 0.000\n",
      "Epoch 19/30\n",
      "- Eval metrics : accuracy: 0.815 ; loss: 0.000\n",
      "Epoch 20/30\n",
      "- Eval metrics : accuracy: 0.828 ; loss: 0.000\n",
      "Epoch 21/30\n",
      "- Eval metrics : accuracy: 0.826 ; loss: 0.000\n",
      "Epoch 22/30\n",
      "- Eval metrics : accuracy: 0.828 ; loss: 0.000\n",
      "Epoch 23/30\n",
      "- Eval metrics : accuracy: 0.832 ; loss: 0.000\n",
      "Epoch 24/30\n",
      "- Eval metrics : accuracy: 0.830 ; loss: 0.000\n",
      "Epoch 25/30\n",
      "- Eval metrics : accuracy: 0.831 ; loss: 0.000\n",
      "Epoch 26/30\n",
      "- Eval metrics : accuracy: 0.830 ; loss: 0.000\n",
      "Epoch 27/30\n",
      "- Eval metrics : accuracy: 0.834 ; loss: 0.000\n",
      "Epoch 28/30\n",
      "- Eval metrics : accuracy: 0.830 ; loss: 0.000\n",
      "Epoch 29/30\n",
      "- Eval metrics : accuracy: 0.840 ; loss: 0.000\n",
      "Epoch 30/30\n",
      "- Eval metrics : accuracy: 0.843 ; loss: 0.000\n"
     ]
    }
   ],
   "source": [
    "best_val_acc = 0.0\n",
    "# Teacher model은 학습하는게 아님. -> eval mode로 변경\n",
    "teacher_model.eval()\n",
    "scheduler = StepLR(optimizer, step_size=100, gamma=0.2)\n",
    "val_acc_distill = []\n",
    "\n",
    "for epoch in range(params.num_epochs):\n",
    "    logging.info(\"Epoch {}/{}\".format(epoch + 1, params.num_epochs))\n",
    "    model.train()\n",
    "    summ = []\n",
    "    loss_avg = utils.RunningAverage()\n",
    "    for i, (train_batch, labels_batch) in enumerate(train_dl):\n",
    "        if params.cuda:\n",
    "            train_batch, labels_batch = train_batch.cuda(), labels_batch.cuda()\n",
    "            # teacher model의 output 구하기\n",
    "            with torch.no_grad():\n",
    "                teacher_outputs = teacher_model(train_batch)\n",
    "            # student model의 output 구하기\n",
    "            output_batch = model(train_batch)\n",
    "            # KD Loss\n",
    "            loss = loss_fn_kd(output_batch, labels_batch, teacher_outputs, params)\n",
    "\n",
    "            optimizer.zero_grad()\n",
    "            loss.backward()\n",
    "            optimizer.step()\n",
    "            \n",
    "            loss_avg.update(loss.item())\n",
    "    scheduler.step()\n",
    "    val_metrics = evaluate_kd(model, dev_dl, metrics, params)     \n",
    "    val_acc = val_metrics['accuracy']\n",
    "    val_acc_distill.append(val_acc)\n",
    "    is_best = val_acc>=best_val_acc\n",
    "    #print(\"Epoch {}/{} | Val-Acc {:.2f}\".format(epoch+1, params.num_epochs, val_acc))"
   ]
  },
  {
   "cell_type": "code",
   "execution_count": 14,
   "metadata": {},
   "outputs": [
    {
     "name": "stderr",
     "output_type": "stream",
     "text": [
      "Loading the datasets...\n"
     ]
    },
    {
     "name": "stdout",
     "output_type": "stream",
     "text": [
      "Files already downloaded and verified\n",
      "Files already downloaded and verified\n",
      "Files already downloaded and verified\n",
      "Files already downloaded and verified\n"
     ]
    },
    {
     "name": "stderr",
     "output_type": "stream",
     "text": [
      "- done.\n"
     ]
    }
   ],
   "source": [
    "params = utils.Params('./experiments/base_cnn/params.json')\n",
    "params.cuda = True\n",
    "utils.set_logger(os.path.join('./experiments/base_cnn', 'train.log'))\n",
    "logging.info(\"Loading the datasets...\")\n",
    "train_dl = data_loader.fetch_dataloader('train', params)\n",
    "dev_dl = data_loader.fetch_dataloader('dev', params)\n",
    "logging.info(\"- done.\")"
   ]
  },
  {
   "cell_type": "code",
   "execution_count": 7,
   "metadata": {},
   "outputs": [
    {
     "name": "stderr",
     "output_type": "stream",
     "text": [
      "Epoch 1/30\n",
      "- Eval metrics : accuracy: 0.664 ; loss: 0.000\n",
      "Epoch 2/30\n",
      "- Eval metrics : accuracy: 0.707 ; loss: 0.000\n",
      "Epoch 3/30\n",
      "- Eval metrics : accuracy: 0.736 ; loss: 0.000\n",
      "Epoch 4/30\n",
      "- Eval metrics : accuracy: 0.714 ; loss: 0.000\n",
      "Epoch 5/30\n",
      "- Eval metrics : accuracy: 0.766 ; loss: 0.000\n",
      "Epoch 6/30\n",
      "- Eval metrics : accuracy: 0.773 ; loss: 0.000\n",
      "Epoch 7/30\n",
      "- Eval metrics : accuracy: 0.765 ; loss: 0.000\n",
      "Epoch 8/30\n",
      "- Eval metrics : accuracy: 0.779 ; loss: 0.000\n",
      "Epoch 9/30\n",
      "- Eval metrics : accuracy: 0.770 ; loss: 0.000\n",
      "Epoch 10/30\n",
      "- Eval metrics : accuracy: 0.779 ; loss: 0.000\n",
      "Epoch 11/30\n",
      "- Eval metrics : accuracy: 0.782 ; loss: 0.000\n",
      "Epoch 12/30\n",
      "- Eval metrics : accuracy: 0.772 ; loss: 0.000\n",
      "Epoch 13/30\n",
      "- Eval metrics : accuracy: 0.792 ; loss: 0.000\n",
      "Epoch 14/30\n",
      "- Eval metrics : accuracy: 0.785 ; loss: 0.000\n",
      "Epoch 15/30\n",
      "- Eval metrics : accuracy: 0.771 ; loss: 0.000\n",
      "Epoch 16/30\n",
      "- Eval metrics : accuracy: 0.774 ; loss: 0.000\n",
      "Epoch 17/30\n",
      "- Eval metrics : accuracy: 0.777 ; loss: 0.000\n",
      "Epoch 18/30\n",
      "- Eval metrics : accuracy: 0.780 ; loss: 0.000\n",
      "Epoch 19/30\n",
      "- Eval metrics : accuracy: 0.772 ; loss: 0.000\n",
      "Epoch 20/30\n",
      "- Eval metrics : accuracy: 0.774 ; loss: 0.000\n",
      "Epoch 21/30\n",
      "- Eval metrics : accuracy: 0.780 ; loss: 0.000\n",
      "Epoch 22/30\n",
      "- Eval metrics : accuracy: 0.780 ; loss: 0.000\n",
      "Epoch 23/30\n",
      "- Eval metrics : accuracy: 0.783 ; loss: 0.000\n",
      "Epoch 24/30\n",
      "- Eval metrics : accuracy: 0.771 ; loss: 0.000\n",
      "Epoch 25/30\n",
      "- Eval metrics : accuracy: 0.777 ; loss: 0.000\n",
      "Epoch 26/30\n",
      "- Eval metrics : accuracy: 0.776 ; loss: 0.000\n",
      "Epoch 27/30\n",
      "- Eval metrics : accuracy: 0.776 ; loss: 0.000\n",
      "Epoch 28/30\n",
      "- Eval metrics : accuracy: 0.775 ; loss: 0.000\n",
      "Epoch 29/30\n",
      "- Eval metrics : accuracy: 0.775 ; loss: 0.000\n",
      "Epoch 30/30\n",
      "- Eval metrics : accuracy: 0.782 ; loss: 0.000\n"
     ]
    }
   ],
   "source": [
    "# Student model : Conv-5 network\n",
    "model = net.Net(params).cuda() if params.cuda else net.Net(params)\n",
    "optimizer = optim.Adam(model.parameters(), lr=params.learning_rate)\n",
    "metrics = net.metrics\n",
    "\n",
    "best_val_acc = 0.0\n",
    "scheduler = StepLR(optimizer, step_size=100, gamma=0.2)\n",
    "val_acc_nodistill = []\n",
    "\n",
    "for epoch in range(params.num_epochs):\n",
    "    logging.info(\"Epoch {}/{}\".format(epoch + 1, params.num_epochs))\n",
    "    model.train()\n",
    "    summ = []\n",
    "    loss_avg = utils.RunningAverage()\n",
    "    for i, (train_batch, labels_batch) in enumerate(train_dl):\n",
    "        if params.cuda:\n",
    "            train_batch, labels_batch = train_batch.cuda(), labels_batch.cuda()\n",
    "            output_batch = model(train_batch)\n",
    "            # CE Loss\n",
    "            loss = nn.CrossEntropyLoss()(output_batch, labels_batch)\n",
    "\n",
    "            optimizer.zero_grad()\n",
    "            loss.backward()\n",
    "            optimizer.step()\n",
    "            \n",
    "            loss_avg.update(loss.item())\n",
    "    scheduler.step()\n",
    "    val_metrics = evaluate_kd(model, dev_dl, metrics, params)     \n",
    "    val_acc = val_metrics['accuracy']\n",
    "    val_acc_nodistill.append(val_acc)\n",
    "    is_best = val_acc>=best_val_acc"
   ]
  },
  {
   "cell_type": "code",
   "execution_count": 9,
   "metadata": {},
   "outputs": [
    {
     "data": {
      "text/plain": [
       "<matplotlib.legend.Legend at 0x7f3af575a0a0>"
      ]
     },
     "execution_count": 9,
     "metadata": {},
     "output_type": "execute_result"
    },
    {
     "data": {
      "image/png": "[encoded data removed]",
      "text/plain": [
       "<Figure size 432x288 with 1 Axes>"
      ]
     },
     "metadata": {
      "needs_background": "light"
     },
     "output_type": "display_data"
    }
   ],
   "source": [
    "import matplotlib.pyplot as plt\n",
    "plt.plot(range(1, 31), val_acc_distill)\n",
    "plt.plot(range(1, 31), val_acc_nodistill)\n",
    "plt.xlabel('Epoch')\n",
    "plt.ylabel('Accuracy')\n",
    "plt.legend(['Distill', 'No Distill'])"
   ]
  },
  {
   "cell_type": "code",
   "execution_count": null,
   "metadata": {},
   "outputs": [],
   "source": []
  }
 ],
 "metadata": {
  "kernelspec": {
   "display_name": "Python 3",
   "language": "python",
   "name": "python3"
  },
  "language_info": {
   "codemirror_mode": {
    "name": "ipython",
    "version": 3
   },
   "file_extension": ".py",
   "mimetype": "text/x-python",
   "name": "python",
   "nbconvert_exporter": "python",
   "pygments_lexer": "ipython3",
   "version": "3.8.3"
  }
 },
 "nbformat": 4,
 "nbformat_minor": 4
}
